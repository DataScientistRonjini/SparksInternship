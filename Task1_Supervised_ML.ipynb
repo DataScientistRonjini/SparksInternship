{
  "nbformat": 4,
  "nbformat_minor": 0,
  "metadata": {
    "colab": {
      "name": "Task1_Supervised_ML.ipynb",
      "provenance": [],
      "collapsed_sections": [
        "vwWwiQC77brP",
        "KaN_2xjBpmBs"
      ]
    },
    "kernelspec": {
      "name": "python3",
      "display_name": "Python 3"
    }
  },
  "cells": [
    {
      "cell_type": "markdown",
      "metadata": {
        "id": "8o92iT054CvV"
      },
      "source": [
        "# **Objective:**\n",
        "### To predict the percentage of a student if he/she studies for 9.25 hrs/day\n"
      ]
    },
    {
      "cell_type": "code",
      "metadata": {
        "id": "LnrXdw3C4JE4",
        "colab": {
          "base_uri": "https://localhost:8080/"
        },
        "outputId": "abfb4a8a-6d15-4f8f-c120-813411f66d5c"
      },
      "source": [
        "# importing libraries to mount gdrive\n",
        "from google.colab import drive\n",
        "drive.mount('/content/gdrive')"
      ],
      "execution_count": 96,
      "outputs": [
        {
          "output_type": "stream",
          "text": [
            "Drive already mounted at /content/gdrive; to attempt to forcibly remount, call drive.mount(\"/content/gdrive\", force_remount=True).\n"
          ],
          "name": "stdout"
        }
      ]
    },
    {
      "cell_type": "code",
      "metadata": {
        "id": "sHuTawOIE0_c"
      },
      "source": [
        "# importing the required libraries\n",
        "import numpy as np\n",
        "import pandas as pd\n",
        "import datetime\n",
        "pd.set_option('float_format','{:50f}'.format)\n",
        "pd.set_option('display.max_rows', 700000)\n",
        "\n",
        "import warnings\n",
        "warnings.filterwarnings('ignore')\n",
        "\n",
        "import matplotlib.pyplot as plt\n",
        "import seaborn as sns"
      ],
      "execution_count": 97,
      "outputs": []
    },
    {
      "cell_type": "markdown",
      "metadata": {
        "id": "t_tMDSiZFIE_"
      },
      "source": [
        "# **1. Reading and Understanding Data**"
      ]
    },
    {
      "cell_type": "code",
      "metadata": {
        "id": "Xd0sJl2AAFAG"
      },
      "source": [
        "# Reading the data\n",
        "df_student = pd.read_csv('http://bit.ly/w-data')"
      ],
      "execution_count": 98,
      "outputs": []
    },
    {
      "cell_type": "code",
      "metadata": {
        "colab": {
          "base_uri": "https://localhost:8080/",
          "height": 798
        },
        "id": "AMJGQC96EzaD",
        "outputId": "a4e7aac0-9217-45ef-8245-d9c106882958"
      },
      "source": [
        "# Checking the data\n",
        "df_student"
      ],
      "execution_count": 99,
      "outputs": [
        {
          "output_type": "execute_result",
          "data": {
            "text/html": [
              "<div>\n",
              "<style scoped>\n",
              "    .dataframe tbody tr th:only-of-type {\n",
              "        vertical-align: middle;\n",
              "    }\n",
              "\n",
              "    .dataframe tbody tr th {\n",
              "        vertical-align: top;\n",
              "    }\n",
              "\n",
              "    .dataframe thead th {\n",
              "        text-align: right;\n",
              "    }\n",
              "</style>\n",
              "<table border=\"1\" class=\"dataframe\">\n",
              "  <thead>\n",
              "    <tr style=\"text-align: right;\">\n",
              "      <th></th>\n",
              "      <th>Hours</th>\n",
              "      <th>Scores</th>\n",
              "    </tr>\n",
              "  </thead>\n",
              "  <tbody>\n",
              "    <tr>\n",
              "      <th>0</th>\n",
              "      <td>2.500000</td>\n",
              "      <td>21</td>\n",
              "    </tr>\n",
              "    <tr>\n",
              "      <th>1</th>\n",
              "      <td>5.100000</td>\n",
              "      <td>47</td>\n",
              "    </tr>\n",
              "    <tr>\n",
              "      <th>2</th>\n",
              "      <td>3.200000</td>\n",
              "      <td>27</td>\n",
              "    </tr>\n",
              "    <tr>\n",
              "      <th>3</th>\n",
              "      <td>8.500000</td>\n",
              "      <td>75</td>\n",
              "    </tr>\n",
              "    <tr>\n",
              "      <th>4</th>\n",
              "      <td>3.500000</td>\n",
              "      <td>30</td>\n",
              "    </tr>\n",
              "    <tr>\n",
              "      <th>5</th>\n",
              "      <td>1.500000</td>\n",
              "      <td>20</td>\n",
              "    </tr>\n",
              "    <tr>\n",
              "      <th>6</th>\n",
              "      <td>9.200000</td>\n",
              "      <td>88</td>\n",
              "    </tr>\n",
              "    <tr>\n",
              "      <th>7</th>\n",
              "      <td>5.500000</td>\n",
              "      <td>60</td>\n",
              "    </tr>\n",
              "    <tr>\n",
              "      <th>8</th>\n",
              "      <td>8.300000</td>\n",
              "      <td>81</td>\n",
              "    </tr>\n",
              "    <tr>\n",
              "      <th>9</th>\n",
              "      <td>2.700000</td>\n",
              "      <td>25</td>\n",
              "    </tr>\n",
              "    <tr>\n",
              "      <th>10</th>\n",
              "      <td>7.700000</td>\n",
              "      <td>85</td>\n",
              "    </tr>\n",
              "    <tr>\n",
              "      <th>11</th>\n",
              "      <td>5.900000</td>\n",
              "      <td>62</td>\n",
              "    </tr>\n",
              "    <tr>\n",
              "      <th>12</th>\n",
              "      <td>4.500000</td>\n",
              "      <td>41</td>\n",
              "    </tr>\n",
              "    <tr>\n",
              "      <th>13</th>\n",
              "      <td>3.300000</td>\n",
              "      <td>42</td>\n",
              "    </tr>\n",
              "    <tr>\n",
              "      <th>14</th>\n",
              "      <td>1.100000</td>\n",
              "      <td>17</td>\n",
              "    </tr>\n",
              "    <tr>\n",
              "      <th>15</th>\n",
              "      <td>8.900000</td>\n",
              "      <td>95</td>\n",
              "    </tr>\n",
              "    <tr>\n",
              "      <th>16</th>\n",
              "      <td>2.500000</td>\n",
              "      <td>30</td>\n",
              "    </tr>\n",
              "    <tr>\n",
              "      <th>17</th>\n",
              "      <td>1.900000</td>\n",
              "      <td>24</td>\n",
              "    </tr>\n",
              "    <tr>\n",
              "      <th>18</th>\n",
              "      <td>6.100000</td>\n",
              "      <td>67</td>\n",
              "    </tr>\n",
              "    <tr>\n",
              "      <th>19</th>\n",
              "      <td>7.400000</td>\n",
              "      <td>69</td>\n",
              "    </tr>\n",
              "    <tr>\n",
              "      <th>20</th>\n",
              "      <td>2.700000</td>\n",
              "      <td>30</td>\n",
              "    </tr>\n",
              "    <tr>\n",
              "      <th>21</th>\n",
              "      <td>4.800000</td>\n",
              "      <td>54</td>\n",
              "    </tr>\n",
              "    <tr>\n",
              "      <th>22</th>\n",
              "      <td>3.800000</td>\n",
              "      <td>35</td>\n",
              "    </tr>\n",
              "    <tr>\n",
              "      <th>23</th>\n",
              "      <td>6.900000</td>\n",
              "      <td>76</td>\n",
              "    </tr>\n",
              "    <tr>\n",
              "      <th>24</th>\n",
              "      <td>7.800000</td>\n",
              "      <td>86</td>\n",
              "    </tr>\n",
              "  </tbody>\n",
              "</table>\n",
              "</div>"
            ],
            "text/plain": [
              "                                                Hours  Scores\n",
              "0                                            2.500000      21\n",
              "1                                            5.100000      47\n",
              "2                                            3.200000      27\n",
              "3                                            8.500000      75\n",
              "4                                            3.500000      30\n",
              "5                                            1.500000      20\n",
              "6                                            9.200000      88\n",
              "7                                            5.500000      60\n",
              "8                                            8.300000      81\n",
              "9                                            2.700000      25\n",
              "10                                           7.700000      85\n",
              "11                                           5.900000      62\n",
              "12                                           4.500000      41\n",
              "13                                           3.300000      42\n",
              "14                                           1.100000      17\n",
              "15                                           8.900000      95\n",
              "16                                           2.500000      30\n",
              "17                                           1.900000      24\n",
              "18                                           6.100000      67\n",
              "19                                           7.400000      69\n",
              "20                                           2.700000      30\n",
              "21                                           4.800000      54\n",
              "22                                           3.800000      35\n",
              "23                                           6.900000      76\n",
              "24                                           7.800000      86"
            ]
          },
          "metadata": {
            "tags": []
          },
          "execution_count": 99
        }
      ]
    },
    {
      "cell_type": "markdown",
      "metadata": {
        "id": "_TVM3EPr1lIS"
      },
      "source": [
        "### According to the objective target variable here is **Scores**."
      ]
    },
    {
      "cell_type": "code",
      "metadata": {
        "colab": {
          "base_uri": "https://localhost:8080/"
        },
        "id": "pzLZzU3oE9Hh",
        "outputId": "55c7083a-9682-4073-e803-ca9e8651a98a"
      },
      "source": [
        "# Inspecting the data to check the datatypes of the columns\n",
        "df_student.info()"
      ],
      "execution_count": 100,
      "outputs": [
        {
          "output_type": "stream",
          "text": [
            "<class 'pandas.core.frame.DataFrame'>\n",
            "RangeIndex: 25 entries, 0 to 24\n",
            "Data columns (total 2 columns):\n",
            " #   Column  Non-Null Count  Dtype  \n",
            "---  ------  --------------  -----  \n",
            " 0   Hours   25 non-null     float64\n",
            " 1   Scores  25 non-null     int64  \n",
            "dtypes: float64(1), int64(1)\n",
            "memory usage: 528.0 bytes\n"
          ],
          "name": "stdout"
        }
      ]
    },
    {
      "cell_type": "code",
      "metadata": {
        "colab": {
          "base_uri": "https://localhost:8080/",
          "height": 288
        },
        "id": "-Izn-nc6Fjai",
        "outputId": "1982e7fd-95f0-4212-c87b-abfc9f7f1773"
      },
      "source": [
        "# Checking the statistical parameters of the data\n",
        "df_student.describe()"
      ],
      "execution_count": 101,
      "outputs": [
        {
          "output_type": "execute_result",
          "data": {
            "text/html": [
              "<div>\n",
              "<style scoped>\n",
              "    .dataframe tbody tr th:only-of-type {\n",
              "        vertical-align: middle;\n",
              "    }\n",
              "\n",
              "    .dataframe tbody tr th {\n",
              "        vertical-align: top;\n",
              "    }\n",
              "\n",
              "    .dataframe thead th {\n",
              "        text-align: right;\n",
              "    }\n",
              "</style>\n",
              "<table border=\"1\" class=\"dataframe\">\n",
              "  <thead>\n",
              "    <tr style=\"text-align: right;\">\n",
              "      <th></th>\n",
              "      <th>Hours</th>\n",
              "      <th>Scores</th>\n",
              "    </tr>\n",
              "  </thead>\n",
              "  <tbody>\n",
              "    <tr>\n",
              "      <th>count</th>\n",
              "      <td>25.000000</td>\n",
              "      <td>25.000000</td>\n",
              "    </tr>\n",
              "    <tr>\n",
              "      <th>mean</th>\n",
              "      <td>5.012000</td>\n",
              "      <td>51.480000</td>\n",
              "    </tr>\n",
              "    <tr>\n",
              "      <th>std</th>\n",
              "      <td>2.525094</td>\n",
              "      <td>25.286887</td>\n",
              "    </tr>\n",
              "    <tr>\n",
              "      <th>min</th>\n",
              "      <td>1.100000</td>\n",
              "      <td>17.000000</td>\n",
              "    </tr>\n",
              "    <tr>\n",
              "      <th>25%</th>\n",
              "      <td>2.700000</td>\n",
              "      <td>30.000000</td>\n",
              "    </tr>\n",
              "    <tr>\n",
              "      <th>50%</th>\n",
              "      <td>4.800000</td>\n",
              "      <td>47.000000</td>\n",
              "    </tr>\n",
              "    <tr>\n",
              "      <th>75%</th>\n",
              "      <td>7.400000</td>\n",
              "      <td>75.000000</td>\n",
              "    </tr>\n",
              "    <tr>\n",
              "      <th>max</th>\n",
              "      <td>9.200000</td>\n",
              "      <td>95.000000</td>\n",
              "    </tr>\n",
              "  </tbody>\n",
              "</table>\n",
              "</div>"
            ],
            "text/plain": [
              "                                                   Hours                                             Scores\n",
              "count                                          25.000000                                          25.000000\n",
              "mean                                            5.012000                                          51.480000\n",
              "std                                             2.525094                                          25.286887\n",
              "min                                             1.100000                                          17.000000\n",
              "25%                                             2.700000                                          30.000000\n",
              "50%                                             4.800000                                          47.000000\n",
              "75%                                             7.400000                                          75.000000\n",
              "max                                             9.200000                                          95.000000"
            ]
          },
          "metadata": {
            "tags": []
          },
          "execution_count": 101
        }
      ]
    },
    {
      "cell_type": "markdown",
      "metadata": {
        "id": "-_CNgYkLF64o"
      },
      "source": [
        "# **2. Visualizing the Data**"
      ]
    },
    {
      "cell_type": "code",
      "metadata": {
        "colab": {
          "base_uri": "https://localhost:8080/",
          "height": 303
        },
        "id": "pNxEYDvnGAeP",
        "outputId": "7a4674ba-85cf-4fd9-be67-c2aab6f2f5c9"
      },
      "source": [
        "sns.pairplot(df_student, x_vars='Hours', y_vars='Scores',size=4, aspect=1, kind='scatter')\n",
        "plt.show()"
      ],
      "execution_count": 102,
      "outputs": [
        {
          "output_type": "display_data",
          "data": {
            "image/png": "[encoded data removed]",
            "text/plain": [
              "<Figure size 288x288 with 1 Axes>"
            ]
          },
          "metadata": {
            "tags": [],
            "needs_background": "light"
          }
        }
      ]
    },
    {
      "cell_type": "markdown",
      "metadata": {
        "id": "T0UfdEAs2g_J"
      },
      "source": [
        "### There seems linear relationship between the number of hours and scores.\n",
        "### Therefore by the nature of the graph we see that a student scores are towards higher range when the number of hours increases."
      ]
    },
    {
      "cell_type": "code",
      "metadata": {
        "colab": {
          "base_uri": "https://localhost:8080/",
          "height": 630
        },
        "id": "YGpuuOQ8HWE0",
        "outputId": "632ed3c6-ff5c-425f-d8f0-e25d98799c26"
      },
      "source": [
        "# Checking outliers\n",
        "# Plotting Box Plots\n",
        "plt.figure(figsize =(20,10))\n",
        "plt.suptitle(\"Univariate Analysis of all numeric variables of student data\")\n",
        "plt.subplot(1,2,1)\n",
        "plt.subplots_adjust(left=0.125, bottom=None, right=None, top=None, wspace=1.5, hspace=1.5)\n",
        "sns.boxplot(y=df_student['Hours'])\n",
        "\n",
        "plt.subplot(1,2,2)\n",
        "plt.subplots_adjust(left=0.125, bottom=None, right=None, top=None, wspace=1.5, hspace=1.5)\n",
        "sns.boxplot(y=df_student['Scores'])\n",
        "plt.show()"
      ],
      "execution_count": 103,
      "outputs": [
        {
          "output_type": "display_data",
          "data": {
            "image/png": "[encoded data removed]",
            "text/plain": [
              "<Figure size 1440x720 with 2 Axes>"
            ]
          },
          "metadata": {
            "tags": [],
            "needs_background": "light"
          }
        }
      ]
    },
    {
      "cell_type": "code",
      "metadata": {
        "id": "Mfd_Ym6l2xt1"
      },
      "source": [
        "# There seems to be no outliers in both the columns of data."
      ],
      "execution_count": 104,
      "outputs": []
    },
    {
      "cell_type": "markdown",
      "metadata": {
        "id": "uT_EkG31W0NL"
      },
      "source": [
        "# **3. Performing Simple Linear Regression**"
      ]
    },
    {
      "cell_type": "code",
      "metadata": {
        "id": "z89phvbSYUqe"
      },
      "source": [
        "# Dividing into dependent(y) and independent(X) variables\n",
        "X = df_student['Hours']\n",
        "y = df_student['Scores']"
      ],
      "execution_count": 105,
      "outputs": []
    },
    {
      "cell_type": "code",
      "metadata": {
        "id": "qA1SZ4rNW_Gm"
      },
      "source": [
        "# Splitting into train and test set"
      ],
      "execution_count": 106,
      "outputs": []
    },
    {
      "cell_type": "code",
      "metadata": {
        "id": "FOPD3wutXH4r"
      },
      "source": [
        "from sklearn.model_selection import train_test_split\n",
        "X_train,X_test,y_train,y_test=train_test_split(X,y, train_size=0.7, test_size=0.3, random_state=100)"
      ],
      "execution_count": 107,
      "outputs": []
    },
    {
      "cell_type": "code",
      "metadata": {
        "colab": {
          "base_uri": "https://localhost:8080/"
        },
        "id": "y3tOuUY_YG-6",
        "outputId": "f48a36b8-9197-4b10-92fd-ef6a847a12d3"
      },
      "source": [
        "# Checking X_train\n",
        "X_train.head()"
      ],
      "execution_count": 108,
      "outputs": [
        {
          "output_type": "execute_result",
          "data": {
            "text/plain": [
              "6                                              9.200000\n",
              "12                                             4.500000\n",
              "4                                              3.500000\n",
              "24                                             7.800000\n",
              "0                                              2.500000\n",
              "Name: Hours, dtype: float64"
            ]
          },
          "metadata": {
            "tags": []
          },
          "execution_count": 108
        }
      ]
    },
    {
      "cell_type": "code",
      "metadata": {
        "colab": {
          "base_uri": "https://localhost:8080/"
        },
        "id": "KVp_X5nVZIGn",
        "outputId": "d745fbe4-6097-48e2-fc28-5d88c2d7df92"
      },
      "source": [
        "# Checking y_train\n",
        "y_train.head()"
      ],
      "execution_count": 109,
      "outputs": [
        {
          "output_type": "execute_result",
          "data": {
            "text/plain": [
              "6     88\n",
              "12    41\n",
              "4     30\n",
              "24    86\n",
              "0     21\n",
              "Name: Scores, dtype: int64"
            ]
          },
          "metadata": {
            "tags": []
          },
          "execution_count": 109
        }
      ]
    },
    {
      "cell_type": "code",
      "metadata": {
        "id": "ANGVoSgOZNq0"
      },
      "source": [
        "# Building a Linear Model\n",
        "import statsmodels.api as sm"
      ],
      "execution_count": 110,
      "outputs": []
    },
    {
      "cell_type": "code",
      "metadata": {
        "id": "EqdK_OrAZ2ky"
      },
      "source": [
        "# add constant to get intercept c\n",
        "X_train_sm = sm.add_constant(X_train)"
      ],
      "execution_count": 111,
      "outputs": []
    },
    {
      "cell_type": "code",
      "metadata": {
        "id": "-flGXrX3aqjT"
      },
      "source": [
        "# Fit the resgression line using 'OLS'\n",
        "lr = sm.OLS(y_train, X_train_sm).fit()"
      ],
      "execution_count": 112,
      "outputs": []
    },
    {
      "cell_type": "code",
      "metadata": {
        "colab": {
          "base_uri": "https://localhost:8080/"
        },
        "id": "fupf3c4oat-Y",
        "outputId": "e46d97a1-88e3-457e-a8f4-8329246d7b72"
      },
      "source": [
        "# Print the parameters, i.e. the intercept and the slope of the regression line fitted\n",
        "lr.params"
      ],
      "execution_count": 113,
      "outputs": [
        {
          "output_type": "execute_result",
          "data": {
            "text/plain": [
              "const                                             1.495142\n",
              "Hours                                             9.871714\n",
              "dtype: float64"
            ]
          },
          "metadata": {
            "tags": []
          },
          "execution_count": 113
        }
      ]
    },
    {
      "cell_type": "code",
      "metadata": {
        "colab": {
          "base_uri": "https://localhost:8080/"
        },
        "id": "o7hKnbvyaxiW",
        "outputId": "3553910e-19ef-4a6c-a518-0da8e5f7846d"
      },
      "source": [
        "# Performing a summary operation lists out all the different parameters of the regression line fitted\n",
        "print(lr.summary())"
      ],
      "execution_count": 114,
      "outputs": [
        {
          "output_type": "stream",
          "text": [
            "                            OLS Regression Results                            \n",
            "==============================================================================\n",
            "Dep. Variable:                 Scores   R-squared:                       0.957\n",
            "Model:                            OLS   Adj. R-squared:                  0.954\n",
            "Method:                 Least Squares   F-statistic:                     334.4\n",
            "Date:                Sun, 07 Mar 2021   Prob (F-statistic):           1.15e-11\n",
            "Time:                        15:26:39   Log-Likelihood:                -53.270\n",
            "No. Observations:                  17   AIC:                             110.5\n",
            "Df Residuals:                      15   BIC:                             112.2\n",
            "Df Model:                           1                                         \n",
            "Covariance Type:            nonrobust                                         \n",
            "==============================================================================\n",
            "                 coef    std err          t      P>|t|      [0.025      0.975]\n",
            "------------------------------------------------------------------------------\n",
            "const          1.4951      3.169      0.472      0.644      -5.260       8.250\n",
            "Hours          9.8717      0.540     18.288      0.000       8.721      11.022\n",
            "==============================================================================\n",
            "Omnibus:                        4.576   Durbin-Watson:                   1.929\n",
            "Prob(Omnibus):                  0.101   Jarque-Bera (JB):                1.488\n",
            "Skew:                          -0.198   Prob(JB):                        0.475\n",
            "Kurtosis:                       1.606   Cond. No.                         13.3\n",
            "==============================================================================\n",
            "\n",
            "Warnings:\n",
            "[1] Standard Errors assume that the covariance matrix of the errors is correctly specified.\n"
          ],
          "name": "stdout"
        }
      ]
    },
    {
      "cell_type": "markdown",
      "metadata": {
        "id": "SBItheNH3F4p"
      },
      "source": [
        "# We can see the R-squared value for this model is 0.957 which is a very good score."
      ]
    },
    {
      "cell_type": "markdown",
      "metadata": {
        "id": "8Gbx7BBibksV"
      },
      "source": [
        "## Therefore the equation of the best fit line is :\n",
        "# **Scores = 1.5+9.87xHours**"
      ]
    },
    {
      "cell_type": "code",
      "metadata": {
        "colab": {
          "base_uri": "https://localhost:8080/",
          "height": 280
        },
        "id": "TgDcL4t4btxt",
        "outputId": "8db665cb-770c-4cb1-d96c-7ab9168d6bfd"
      },
      "source": [
        "# Checking the nature of the training data set\n",
        "plt.scatter(X_train, y_train)\n",
        "plt.plot(X_train, 1.5 + 9.87*X_train, 'r')\n",
        "plt.xlabel(\"X_train_Hours\")\n",
        "plt.ylabel(\"y_train_Scores\")\n",
        "plt.show()"
      ],
      "execution_count": 115,
      "outputs": [
        {
          "output_type": "display_data",
          "data": {
            "image/png": "[encoded data removed]",
            "text/plain": [
              "<Figure size 432x288 with 1 Axes>"
            ]
          },
          "metadata": {
            "tags": [],
            "needs_background": "light"
          }
        }
      ]
    },
    {
      "cell_type": "markdown",
      "metadata": {
        "id": "Qkxx1A_EhcIT"
      },
      "source": [
        "# **4. Predictions on test set**"
      ]
    },
    {
      "cell_type": "code",
      "metadata": {
        "colab": {
          "base_uri": "https://localhost:8080/"
        },
        "id": "vlsGFGGehkYv",
        "outputId": "43bf8775-9099-4b88-c2a5-69ec5800eec3"
      },
      "source": [
        "# Checking the test set\n",
        "X_test"
      ],
      "execution_count": 116,
      "outputs": [
        {
          "output_type": "execute_result",
          "data": {
            "text/plain": [
              "9                                              2.700000\n",
              "22                                             3.800000\n",
              "13                                             3.300000\n",
              "11                                             5.900000\n",
              "5                                              1.500000\n",
              "19                                             7.400000\n",
              "23                                             6.900000\n",
              "21                                             4.800000\n",
              "Name: Hours, dtype: float64"
            ]
          },
          "metadata": {
            "tags": []
          },
          "execution_count": 116
        }
      ]
    },
    {
      "cell_type": "code",
      "metadata": {
        "id": "H2cqqrenhurD"
      },
      "source": [
        "# Insert asked value in the test data\n",
        "X_test.loc[8]=9.25  "
      ],
      "execution_count": 117,
      "outputs": []
    },
    {
      "cell_type": "code",
      "metadata": {
        "colab": {
          "base_uri": "https://localhost:8080/"
        },
        "id": "Pb4AEKrAjEHd",
        "outputId": "486efe6d-1de6-4dcd-c9aa-c71d3c481e35"
      },
      "source": [
        "# Checking the test set\n",
        "X_test"
      ],
      "execution_count": 118,
      "outputs": [
        {
          "output_type": "execute_result",
          "data": {
            "text/plain": [
              "9                                              2.700000\n",
              "22                                             3.800000\n",
              "13                                             3.300000\n",
              "11                                             5.900000\n",
              "5                                              1.500000\n",
              "19                                             7.400000\n",
              "23                                             6.900000\n",
              "21                                             4.800000\n",
              "8                                              9.250000\n",
              "Name: Hours, dtype: float64"
            ]
          },
          "metadata": {
            "tags": []
          },
          "execution_count": 118
        }
      ]
    },
    {
      "cell_type": "code",
      "metadata": {
        "id": "a26ntskyjF1A"
      },
      "source": [
        "# Adding a constant to X_test\n",
        "X_test_sm = sm.add_constant(X_test)"
      ],
      "execution_count": 119,
      "outputs": []
    },
    {
      "cell_type": "code",
      "metadata": {
        "id": "nzTR0VF8jYhP"
      },
      "source": [
        "# Predicting the y values corresponding to X_test_sm\n",
        "y_pred = lr.predict(X_test_sm)"
      ],
      "execution_count": 120,
      "outputs": []
    },
    {
      "cell_type": "code",
      "metadata": {
        "colab": {
          "base_uri": "https://localhost:8080/"
        },
        "id": "qCuRtkExja3t",
        "outputId": "009a611f-c469-4111-ab5f-348296671f8e"
      },
      "source": [
        "# Observing the predicted values\n",
        "y_pred"
      ],
      "execution_count": 121,
      "outputs": [
        {
          "output_type": "execute_result",
          "data": {
            "text/plain": [
              "9                                             28.148771\n",
              "22                                            39.007657\n",
              "13                                            34.071800\n",
              "11                                            59.738257\n",
              "5                                             16.302714\n",
              "19                                            74.545829\n",
              "23                                            69.609972\n",
              "21                                            48.879371\n",
              "8                                             92.808501\n",
              "dtype: float64"
            ]
          },
          "metadata": {
            "tags": []
          },
          "execution_count": 121
        }
      ]
    },
    {
      "cell_type": "markdown",
      "metadata": {
        "id": "vwWwiQC77brP"
      },
      "source": [
        "## **We have got our answer in the last row of the above dataset that is if a student studies for 9.25 hrs/day he/she scores 92.81%**"
      ]
    },
    {
      "cell_type": "markdown",
      "metadata": {
        "id": "VOoRNODqLPlM"
      },
      "source": [
        "# **5. Model Evaluation**"
      ]
    },
    {
      "cell_type": "code",
      "metadata": {
        "id": "vmDwDkJnjdJf"
      },
      "source": [
        "# libraries to find the r-squared score for test set\n",
        "from sklearn.metrics import mean_squared_error\n",
        "from sklearn.metrics import r2_score"
      ],
      "execution_count": 122,
      "outputs": []
    },
    {
      "cell_type": "code",
      "metadata": {
        "id": "Av3pQTGglHaQ"
      },
      "source": [
        "# Dropping the asked value to make the predicted data set of same shape as that of test data set\n",
        "y_pred.drop(8, inplace=True)"
      ],
      "execution_count": 123,
      "outputs": []
    },
    {
      "cell_type": "code",
      "metadata": {
        "id": "H4CzBz3llpET",
        "colab": {
          "base_uri": "https://localhost:8080/"
        },
        "outputId": "604e42a6-12a3-4f04-ec36-c63dfa4f8465"
      },
      "source": [
        "# Finding out the value of Model evaluation metric i.e Mean Absolute Error\n",
        "from sklearn import metrics  \n",
        "print('Mean Absolute Error:', \n",
        "      metrics.mean_absolute_error(y_test, y_pred))"
      ],
      "execution_count": 124,
      "outputs": [
        {
          "output_type": "stream",
          "text": [
            "Mean Absolute Error: 4.762517892332275\n"
          ],
          "name": "stdout"
        }
      ]
    },
    {
      "cell_type": "code",
      "metadata": {
        "id": "bwbGWmI6K3mO"
      },
      "source": [
        "# Mean Absolute Error is not a normalised metric for model evaluation hence we will use the metric R-squared value for MODEL EVALUATION."
      ],
      "execution_count": 125,
      "outputs": []
    },
    {
      "cell_type": "code",
      "metadata": {
        "colab": {
          "base_uri": "https://localhost:8080/"
        },
        "id": "84pLuCmAkmig",
        "outputId": "c39dd0a1-b0a2-4f26-bde4-d6b217bc5476"
      },
      "source": [
        "# Finding out the r-squared score for the test data compared to the predicted data to evaluate the model\n",
        "r_squared = r2_score(y_test, y_pred)\n",
        "r_squared"
      ],
      "execution_count": 126,
      "outputs": [
        {
          "output_type": "execute_result",
          "data": {
            "text/plain": [
              "0.9309458862687437"
            ]
          },
          "metadata": {
            "tags": []
          },
          "execution_count": 126
        }
      ]
    },
    {
      "cell_type": "markdown",
      "metadata": {
        "id": "48RYCZKA5PPR"
      },
      "source": [
        "# It seems to be a very good model for prediction because both the training and testing data have top R-squared scores."
      ]
    },
    {
      "cell_type": "code",
      "metadata": {
        "colab": {
          "base_uri": "https://localhost:8080/"
        },
        "id": "ur3HtmUil5z1",
        "outputId": "03205557-210c-484f-b2d0-279a61171e18"
      },
      "source": [
        "# Checking X_test data\n",
        "X_test"
      ],
      "execution_count": 127,
      "outputs": [
        {
          "output_type": "execute_result",
          "data": {
            "text/plain": [
              "9                                              2.700000\n",
              "22                                             3.800000\n",
              "13                                             3.300000\n",
              "11                                             5.900000\n",
              "5                                              1.500000\n",
              "19                                             7.400000\n",
              "23                                             6.900000\n",
              "21                                             4.800000\n",
              "8                                              9.250000\n",
              "Name: Hours, dtype: float64"
            ]
          },
          "metadata": {
            "tags": []
          },
          "execution_count": 127
        }
      ]
    },
    {
      "cell_type": "code",
      "metadata": {
        "colab": {
          "base_uri": "https://localhost:8080/"
        },
        "id": "vIW4c7-nmBIt",
        "outputId": "25cbb336-3e19-47a7-9e40-e9bd10270861"
      },
      "source": [
        "# Checking y_test data\n",
        "y_test"
      ],
      "execution_count": 128,
      "outputs": [
        {
          "output_type": "execute_result",
          "data": {
            "text/plain": [
              "9     25\n",
              "22    35\n",
              "13    42\n",
              "11    62\n",
              "5     20\n",
              "19    69\n",
              "23    76\n",
              "21    54\n",
              "Name: Scores, dtype: int64"
            ]
          },
          "metadata": {
            "tags": []
          },
          "execution_count": 128
        }
      ]
    },
    {
      "cell_type": "code",
      "metadata": {
        "id": "SfQL4S35oPtE"
      },
      "source": [
        "# Dropping the asked data to equalise the shape with the y_test data\n",
        "X_test.drop(8,inplace=True)"
      ],
      "execution_count": 129,
      "outputs": []
    },
    {
      "cell_type": "code",
      "metadata": {
        "colab": {
          "base_uri": "https://localhost:8080/",
          "height": 280
        },
        "id": "e3RWves1lfdi",
        "outputId": "d304e927-212f-44b7-aae4-f204e47f35d0"
      },
      "source": [
        "# Observing the nature of the test data\n",
        "plt.scatter(X_test, y_test)\n",
        "plt.plot(X_test, 1.5 + 9.87*X_test, 'r')\n",
        "plt.xlabel(\"X_test_Hours\") #x label\n",
        "plt.ylabel(\"y_test_Scores\") #y label\n",
        "plt.show()"
      ],
      "execution_count": 130,
      "outputs": [
        {
          "output_type": "display_data",
          "data": {
            "image/png": "[encoded data removed]",
            "text/plain": [
              "<Figure size 432x288 with 1 Axes>"
            ]
          },
          "metadata": {
            "tags": [],
            "needs_background": "light"
          }
        }
      ]
    },
    {
      "cell_type": "code",
      "metadata": {
        "id": "E5SA8oqg6CAT"
      },
      "source": [
        "# The nature of the test data also seems to be linearly increasing."
      ],
      "execution_count": 131,
      "outputs": []
    },
    {
      "cell_type": "markdown",
      "metadata": {
        "id": "KaN_2xjBpmBs"
      },
      "source": [
        "# **Student Score Data Analysis Conclusion:**\n",
        "# 1. The more number of hours a student studies the better he or she scores.\n",
        "# 2. Any student who will study for 9.25 hrs/day will get 92.81%"
      ]
    },
    {
      "cell_type": "code",
      "metadata": {
        "id": "EhIO0OEsglKU"
      },
      "source": [
        ""
      ],
      "execution_count": null,
      "outputs": []
    }
  ]
}